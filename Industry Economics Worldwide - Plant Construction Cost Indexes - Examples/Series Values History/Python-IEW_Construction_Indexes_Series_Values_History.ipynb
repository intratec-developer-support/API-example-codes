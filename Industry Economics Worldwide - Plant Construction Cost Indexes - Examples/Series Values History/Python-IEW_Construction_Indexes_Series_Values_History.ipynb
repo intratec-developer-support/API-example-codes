{
 "cells": [
  {
   "cell_type": "markdown",
   "metadata": {},
   "source": [
    "### **Intratec Industry Economics Worldwide - Plant Construction Cost Indexes  - Series Values History**\n",
    "\n",
    ">**Tip:** this code can be implemented including the **Access Token** example to seamlessly integrate both operations."
   ]
  },
  {
   "cell_type": "code",
   "execution_count": 1,
   "metadata": {},
   "outputs": [],
   "source": [
    "import requests\n",
    "import getpass"
   ]
  },
  {
   "cell_type": "markdown",
   "metadata": {},
   "source": [
    "Up to 40 codes can be requested at once by separating them with commas\n",
    "\n",
    "Available codes are obtained via **Intratec Industry Economics Worldwide - Plant Construction Cost Indexes - Series Info operation**.\n",
    "\n",
    ">**E.g.:** 8318-5-2,912-5-2"
   ]
  },
  {
   "cell_type": "code",
   "execution_count": null,
   "metadata": {},
   "outputs": [],
   "source": [
    "codes = '8318-5-2'\n",
    "\n",
    "#To create the authorization header using the Access Token obtained by the Intratec Access Token operation:\n",
    "token = input(\"Paste your Access Token from the Intratec Access Token operation:\")\n",
    "token = 'Bearer ' + token\n",
    "\n",
    "headers = {\n",
    "    'Authorization': token,\n",
    "    'Content-Type': 'application/json'\n",
    "}\n",
    "\n",
    "\n",
    "#This is the URL to the Industry Economics Worldwide - Plant Construction Cost Indexes - Sandbox - Series Values History operation:\n",
    "#To query actual values, simply remove sandbox/ from the URL\n",
    "ie_ci_series_values_hist_api_url = 'https://intratec.azure-api.net/cost_index/v1/sandbox/export/series_hist/' + codes"
   ]
  },
  {
   "cell_type": "code",
   "execution_count": 15,
   "metadata": {},
   "outputs": [],
   "source": [
    "#Make a GET request to the Industry Economics Worldwide - Plant Construction Cost Indexes - Sandbox - Series Values History operation\n",
    "response = requests.get(ie_ci_series_values_hist_api_url, headers=headers)"
   ]
  },
  {
   "cell_type": "code",
   "execution_count": null,
   "metadata": {},
   "outputs": [],
   "source": [
    "json_response = response.json()\n",
    "\n",
    "#Get the response\n",
    "print(json_response)"
   ]
  }
 ],
 "metadata": {
  "kernelspec": {
   "display_name": "venv",
   "language": "python",
   "name": "python3"
  },
  "language_info": {
   "codemirror_mode": {
    "name": "ipython",
    "version": 3
   },
   "file_extension": ".py",
   "mimetype": "text/x-python",
   "name": "python",
   "nbconvert_exporter": "python",
   "pygments_lexer": "ipython3",
   "version": "3.12.2"
  }
 },
 "nbformat": 4,
 "nbformat_minor": 2
}
