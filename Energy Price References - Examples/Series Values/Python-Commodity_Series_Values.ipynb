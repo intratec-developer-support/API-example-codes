{
 "cells": [
  {
   "cell_type": "markdown",
   "metadata": {},
   "source": [
    "### **Intratec Energy Price References -  Series Values**\n",
    "\n",
    ">**Tip:** this code can be implemented including the **Access Token** example to seamlessly integrate both operations."
   ]
  },
  {
   "cell_type": "code",
   "execution_count": 1,
   "metadata": {},
   "outputs": [],
   "source": [
    "import requests\n",
    "import getpass"
   ]
  },
  {
   "cell_type": "markdown",
   "metadata": {},
   "source": [
    "Up to 40 codes can be requested at once by separating them with commas\n",
    "\n",
    "Available codes are obtained via **Intratec Energy Price References - Series Info operation**.\n",
    "\n",
    ">**E.g.:** 68520-8-1,43125-8-1\n",
    "\n",
    "You can also add &c={Currency_ID} and/or &u={Unit_ID} after the code to select a different output currency and unit   \n",
    "\n",
    ">**E.g.:** 68520-8-1&u=2 (Unit in Cubic Meters - m3) **||** 68520-8-1&c=9 (Currency in British Pounds - GBP)\n",
    "\n",
    "You can specify both unit and currency for the same code, no matter the order of the parameters\n",
    "\n",
    ">68520-8-1&u=2&c=9 **is equivalent to** 68520-8-1&c=9&u=2 \n",
    "\n",
    "\n",
    "**{Currency_ID}** and **{Unit_ID}** can be found at Appendix of the PDF documentation\n",
    "\n",
    "Find IDs for currency and unit of measurement in the API User Guide"
   ]
  },
  {
   "cell_type": "code",
   "execution_count": null,
   "metadata": {},
   "outputs": [],
   "source": [
    "codes = '68520-8-1'\n",
    "\n",
    "#To create the authorization header using the Access Token obtained by the Intratec Access Token operation:\n",
    "token = input(\"Paste your Access Token from the Intratec Access Token operation:\")\n",
    "token = 'Bearer ' + token\n",
    "\n",
    "headers = {\n",
    "    'Authorization': token,\n",
    "    'Content-Type': 'application/json'\n",
    "}\n",
    "\n",
    "\n",
    "#This is the URL to the Energy Price References - Sandbox - Series Values operation:\n",
    "#To query actual values, simply remove sandbox/ from the URL\n",
    "ep_series_values_api_url = 'https://intratec.azure-api.net/energy_price/v1/sandbox/export/series/' + codes"
   ]
  },
  {
   "cell_type": "code",
   "execution_count": 15,
   "metadata": {},
   "outputs": [],
   "source": [
    "#Make a GET request to the Energy Price References - Sandbox - Series Values operation\n",
    "response = requests.get(ep_series_values_api_url, headers=headers)"
   ]
  },
  {
   "cell_type": "code",
   "execution_count": null,
   "metadata": {},
   "outputs": [],
   "source": [
    "json_response = response.json()\n",
    "\n",
    "#Get the response\n",
    "print(json_response)"
   ]
  }
 ],
 "metadata": {
  "kernelspec": {
   "display_name": "venv",
   "language": "python",
   "name": "python3"
  },
  "language_info": {
   "codemirror_mode": {
    "name": "ipython",
    "version": 3
   },
   "file_extension": ".py",
   "mimetype": "text/x-python",
   "name": "python",
   "nbconvert_exporter": "python",
   "pygments_lexer": "ipython3",
   "version": "3.12.2"
  }
 },
 "nbformat": 4,
 "nbformat_minor": 2
}
