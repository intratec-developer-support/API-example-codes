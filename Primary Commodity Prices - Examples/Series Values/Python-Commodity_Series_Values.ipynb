{
 "cells": [
  {
   "cell_type": "markdown",
   "metadata": {},
   "source": [
    "### **Intratec Primary Commodity Prices -  Series Values**\n",
    "\n",
    ">**Tip:** this code can be implemented including the **Access Token** example to seamlessly integrate both operations."
   ]
  },
  {
   "cell_type": "code",
   "execution_count": 1,
   "metadata": {},
   "outputs": [],
   "source": [
    "import requests\n",
    "import getpass"
   ]
  },
  {
   "cell_type": "markdown",
   "metadata": {},
   "source": [
    "Up to 40 codes can be requested at once by dividing them with commas\n",
    "\n",
    "Available codes are obtained via **Intratec Primary Commodity Prices - Series Info operation**.\n",
    "\n",
    ">**E.g.:** '91201-1-5', '91201-1-5'\n",
    "\n",
    "You can also add &c={Currency_ID} and/or &u={Unit_ID} after the code to select a different output currency and unit   \n",
    "\n",
    ">**E.g.:** '91201-1-5&u=6' (Unit in Kilograms - kg) **||** '91201-1-5&c=9' (Currency in British Pounds - GBP)\n",
    "\n",
    "You can specify both unit and currency for the same code, no matter the order of the parameters\n",
    "\n",
    ">'91201-1-5&u=6&c=9' **is equivalent to** '91201-1-5&c=9&u=6'   \n",
    "\n",
    "\n",
    "**{Currency_ID}** and **{Unit_ID}** can be found at Appendix of the PDF documentation\n",
    "\n",
    "Find IDs for currency and unit of measurement in the API User Guide"
   ]
  },
  {
   "cell_type": "code",
   "execution_count": null,
   "metadata": {},
   "outputs": [],
   "source": [
    "codes = '91201-1-5'\n",
    "\n",
    "#To create the authorization header using the Access Token obtained by the Intratec Access Token operation:\n",
    "token = input(\"Paste your Access Token from the Intratec Access Token operation:\")\n",
    "token = 'Bearer ' + token\n",
    "\n",
    "headers = {\n",
    "    'Authorization': token,\n",
    "    'Content-Type': 'application/json'\n",
    "}\n",
    "\n",
    "\n",
    "#This is the URL to the Primary Commodity Prices - Sandbox - Get Series Values operation:\n",
    "#To query actual values, simply remove sandbox/ from the URL\n",
    "cp_series_values_api_url = 'https://intratec.azure-api.net/commodity_price/v1/sandbox/export/series/' + codes"
   ]
  },
  {
   "cell_type": "code",
   "execution_count": 15,
   "metadata": {},
   "outputs": [],
   "source": [
    "#Make a GET request to the Primary Commodity Prices - Sandbox - Get Series Values operation\n",
    "response = requests.get(cp_series_values_api_url, headers=headers)"
   ]
  },
  {
   "cell_type": "code",
   "execution_count": null,
   "metadata": {},
   "outputs": [],
   "source": [
    "json_response = response.json()\n",
    "\n",
    "#Get the response\n",
    "print(json_response)"
   ]
  },
  {
   "cell_type": "markdown",
   "metadata": {},
   "source": [
    "Output example for the code 91201-1-5:\n",
    "\n",
    "[{\n",
    "    \"area\": \"US Gulf\",\n",
    "    \"assessment\": \"Diammonium Phosphate, export spot price, fob, US Gulf\",\n",
    "    \"code\": \"91201-1-5\",\n",
    "    \"commodity\": \"Diammonium Phosphate\",\n",
    "    \"coverage\": \"Fertilizers & Gases\",\n",
    "    \"currency\": \"USD\",\n",
    "    \"details\": \"-\",\n",
    "    \"incoterm\": \"fob\",\n",
    "    \"location\": \"United States\",\n",
    "    \"market_type\": \"export\",\n",
    "    \"price_type\": \"spot price\",\n",
    "    \"product\": \"Primary Commodity Prices\",\n",
    "    \"remark_1\": \"lag: 0\",\n",
    "    \"remark_2\": \"-\",\n",
    "    \"series_final_values\": [{\n",
    "        \"date\": \"2024-03-01\",\n",
    "        \"value\": -555\n",
    "    }, {\n",
    "        \"date\": \"2024-02-01\",\n",
    "        \"value\": -555\n",
    "    }, {\n",
    "        \"date\": \"2024-01-01\",\n",
    "        \"value\": -555\n",
    "    }, {\n",
    "        \"date\": \"2023-12-01\",\n",
    "        \"value\": -555\n",
    "    }, {\n",
    "        \"date\": \"2023-11-01\",\n",
    "        \"value\": -555\n",
    "    }, {\n",
    "        \"date\": \"2023-10-01\",\n",
    "        \"value\": -555\n",
    "    }, {\n",
    "        \"date\": \"2023-09-01\",\n",
    "        \"value\": -555\n",
    "    }, {\n",
    "        \"date\": \"2023-08-01\",\n",
    "        \"value\": -555\n",
    "    }, {\n",
    "        \"date\": \"2023-07-01\",\n",
    "        \"value\": -555\n",
    "    }, {\n",
    "        \"date\": \"2023-06-01\",\n",
    "        \"value\": -555\n",
    "    }, {\n",
    "        \"date\": \"2023-05-01\",\n",
    "        \"value\": -555\n",
    "    }, {\n",
    "        \"date\": \"2023-04-01\",\n",
    "        \"value\": -555\n",
    "    }, {\n",
    "        \"date\": \"2023-03-01\",\n",
    "        \"value\": -555\n",
    "    }],\n",
    "    \"series_forecast_values\": [{\n",
    "        \"date\": \"2024-12-01\",\n",
    "        \"value\": -555\n",
    "    }, {\n",
    "        \"date\": \"2024-11-01\",\n",
    "        \"value\": -555\n",
    "    }, {\n",
    "        \"date\": \"2024-10-01\",\n",
    "        \"value\": -555\n",
    "    }, {\n",
    "        \"date\": \"2024-09-01\",\n",
    "        \"value\": -555\n",
    "    }, {\n",
    "        \"date\": \"2024-08-01\",\n",
    "        \"value\": -555\n",
    "    }, {\n",
    "        \"date\": \"2024-07-01\",\n",
    "        \"value\": -555\n",
    "    }, {\n",
    "        \"date\": \"2024-06-01\",\n",
    "        \"value\": -555\n",
    "    }, {\n",
    "        \"date\": \"2024-05-01\",\n",
    "        \"value\": -555\n",
    "    }, {\n",
    "        \"date\": \"2024-04-01\",\n",
    "        \"value\": -555\n",
    "    }],\n",
    "    \"specification\": \"standard (18% N, 46-53% P2O5) \",\n",
    "    \"unit\": \"mt\",\n",
    "    \"updated_at\": \"2024-04-09\"\n",
    "}]"
   ]
  }
 ],
 "metadata": {
  "kernelspec": {
   "display_name": "venv",
   "language": "python",
   "name": "python3"
  },
  "language_info": {
   "codemirror_mode": {
    "name": "ipython",
    "version": 3
   },
   "file_extension": ".py",
   "mimetype": "text/x-python",
   "name": "python",
   "nbconvert_exporter": "python",
   "pygments_lexer": "ipython3",
   "version": "3.12.2"
  }
 },
 "nbformat": 4,
 "nbformat_minor": 2
}
