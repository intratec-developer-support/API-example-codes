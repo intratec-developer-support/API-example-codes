{
 "cells": [
  {
   "cell_type": "markdown",
   "metadata": {},
   "source": [
    "This is an example on how to use the **Intratec Primary Commodity Prices - Data Limits** in Python, using the **requests** library\n",
    "\n",
    ">**Tip:** this code can be implemented including the **Access Token** example to seamlessly integrate both APIs."
   ]
  },
  {
   "cell_type": "code",
   "execution_count": 1,
   "metadata": {},
   "outputs": [],
   "source": [
    "import requests\n",
    "import getpass"
   ]
  },
  {
   "cell_type": "code",
   "execution_count": 2,
   "metadata": {},
   "outputs": [],
   "source": [
    "#To create the authorization header using the Access Token obtained by the Intratec Access Token API:\n",
    "token = input(\"Paste your Access Token from the Intratec Access Token API:\")\n",
    "token = 'Bearer ' + token\n",
    "\n",
    "headers = {\n",
    "    'Authorization': token,\n",
    "    'Content-Type': 'application/json'\n",
    "}\n",
    "\n",
    "\n",
    "#This is the URL to the Data Limits - Energy Price References API:\n",
    "#If you want to check the limits for the Get Series Values History operation, replace \"data_limits\" with \"data_limits-hist\"\n",
    "cp_data_limits_api_url = 'https://intratec.azure-api.net/commodity_price/v1/data_limits'"
   ]
  },
  {
   "cell_type": "code",
   "execution_count": 3,
   "metadata": {},
   "outputs": [],
   "source": [
    "#Make a GET request to the Primary Commodity Prices - Data Limits API\n",
    "response = requests.get(cp_data_limits_api_url, headers=headers)"
   ]
  },
  {
   "cell_type": "code",
   "execution_count": null,
   "metadata": {},
   "outputs": [],
   "source": [
    "json_response = response.json()\n",
    "\n",
    "#Get the response\n",
    "print(json_response)"
   ]
  },
  {
   "cell_type": "markdown",
   "metadata": {},
   "source": [
    "Output example:\n",
    "\n",
    "{\n",
    "    \"Polymers\": {\n",
    "        \"remaining_requests\": 616,\n",
    "        \"total_requests\": 800\n",
    "    },\n",
    "    \"Metals & Mining\": {\n",
    "        \"remaining_requests\": 789,\n",
    "        \"total_requests\": 800\n",
    "    },\n",
    "    \"Fertilizers & Gases\": {\n",
    "        \"remaining_requests\": 772,\n",
    "        \"total_requests\": 800\n",
    "    },\n",
    "    \"Inorganic Chemicals\": {\n",
    "        \"remaining_requests\": 756,\n",
    "        \"total_requests\": 800\n",
    "    }\n",
    "}"
   ]
  }
 ],
 "metadata": {
  "kernelspec": {
   "display_name": "venv",
   "language": "python",
   "name": "python3"
  },
  "language_info": {
   "codemirror_mode": {
    "name": "ipython",
    "version": 3
   },
   "file_extension": ".py",
   "mimetype": "text/x-python",
   "name": "python",
   "nbconvert_exporter": "python",
   "pygments_lexer": "ipython3",
   "version": "3.12.2"
  }
 },
 "nbformat": 4,
 "nbformat_minor": 2
}
