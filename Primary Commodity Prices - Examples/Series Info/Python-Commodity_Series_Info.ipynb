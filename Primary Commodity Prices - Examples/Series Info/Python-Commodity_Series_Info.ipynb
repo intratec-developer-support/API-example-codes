{
 "cells": [
  {
   "cell_type": "markdown",
   "metadata": {},
   "source": [
    "This is an example on how to use the **Intratec Primary Commodity Prices - Series Info** in Python, using the **requests** library\n",
    "\n",
    ">**Tip:** this code can be implemented including the **Access Token** example to seamlessly integrate both APIs."
   ]
  },
  {
   "cell_type": "code",
   "execution_count": 1,
   "metadata": {},
   "outputs": [],
   "source": [
    "import requests\n",
    "import getpass"
   ]
  },
  {
   "cell_type": "code",
   "execution_count": 2,
   "metadata": {},
   "outputs": [],
   "source": [
    "#To create the authorization header using the Access Token obtained by the Intratec Access Token API:\n",
    "token = input(\"Paste your Access Token from the Intratec Access Token API:\")\n",
    "token = 'Bearer ' + token\n",
    "\n",
    "headers = {\n",
    "    'Authorization': token,\n",
    "    'Content-Type': 'application/json'\n",
    "}\n",
    "\n",
    "\n",
    "#This is the URL to the Get Series Info - Sandbox - Primary Commodity Prices API:\n",
    "#To query actual values, simply remove sandbox/ from the URL\n",
    "cp_series_info_api_url = 'https://intratec.azure-api.net/commodity_price/v1/sandbox/export/series'"
   ]
  },
  {
   "cell_type": "code",
   "execution_count": 3,
   "metadata": {},
   "outputs": [],
   "source": [
    "#Make a GET request to the Primary Commodity Prices - Series Info API\n",
    "response = requests.get(cp_series_info_api_url, headers=headers)"
   ]
  },
  {
   "cell_type": "code",
   "execution_count": null,
   "metadata": {},
   "outputs": [],
   "source": [
    "json_response = response.json()\n",
    "\n",
    "#Get the response\n",
    "print(json_response)"
   ]
  },
  {
   "cell_type": "markdown",
   "metadata": {},
   "source": [
    "Output example for the code 91201-1-5:\n",
    "\n",
    "[{\n",
    "    \"assessment\": \"Diammonium Phosphate, export spot price, fob, US Gulf\",\n",
    "    \"available_currencies\": \"USD, USD cent, EUR, CNY, JPY, GBP\",\n",
    "    \"available_units\": \"mt, kg, lb, st\",\n",
    "    \"code\": \"91201-1-5\",\n",
    "    \"commodity\": \"Diammonium Phosphate\",\n",
    "    \"coverage\": \"Fertilizers & Gases\",\n",
    "    \"default_currency\": \"USD\",\n",
    "    \"default_unit\": \"mt\",\n",
    "    \"has_forecast\": \"True\",\n",
    "    \"location\": \"United States\",\n",
    "    \"product\": \"Primary Commodity Prices\",\n",
    "    \"remark_1\": \"lag: 0\",\n",
    "    \"remark_2\": \"-\"\n",
    "}]\n",
    "\n",
    "The response above is **just an example**. A real response would contain several objects with information for **all codes under your subscription**."
   ]
  }
 ],
 "metadata": {
  "kernelspec": {
   "display_name": "venv",
   "language": "python",
   "name": "python3"
  },
  "language_info": {
   "codemirror_mode": {
    "name": "ipython",
    "version": 3
   },
   "file_extension": ".py",
   "mimetype": "text/x-python",
   "name": "python",
   "nbconvert_exporter": "python",
   "pygments_lexer": "ipython3",
   "version": "3.12.2"
  }
 },
 "nbformat": 4,
 "nbformat_minor": 2
}
